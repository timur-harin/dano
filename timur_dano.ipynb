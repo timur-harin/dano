{
 "cells": [
  {
   "cell_type": "code",
   "execution_count": 2,
   "metadata": {},
   "outputs": [],
   "source": [
    "import numpy as np\n",
    "import pandas as pd\n",
    "import seaborn as sns\n",
    "import matplotlib.pyplot as plt\n",
    "from scipy.stats import chi2_contingency\n",
    "from statsmodels.stats.outliers_influence import variance_inflation_factor\n",
    "from statsmodels.tools.tools import add_constant\n"
   ]
  },
  {
   "cell_type": "code",
   "execution_count": 3,
   "metadata": {},
   "outputs": [
    {
     "data": {
      "text/html": [
       "<div>\n",
       "<style scoped>\n",
       "    .dataframe tbody tr th:only-of-type {\n",
       "        vertical-align: middle;\n",
       "    }\n",
       "\n",
       "    .dataframe tbody tr th {\n",
       "        vertical-align: top;\n",
       "    }\n",
       "\n",
       "    .dataframe thead th {\n",
       "        text-align: right;\n",
       "    }\n",
       "</style>\n",
       "<table border=\"1\" class=\"dataframe\">\n",
       "  <thead>\n",
       "    <tr style=\"text-align: right;\">\n",
       "      <th></th>\n",
       "      <th>Unnamed: 0</th>\n",
       "      <th>school</th>\n",
       "      <th>sex</th>\n",
       "      <th>age</th>\n",
       "      <th>address</th>\n",
       "      <th>famsize</th>\n",
       "      <th>Pstatus</th>\n",
       "      <th>Medu</th>\n",
       "      <th>Fedu</th>\n",
       "      <th>Mjob</th>\n",
       "      <th>...</th>\n",
       "      <th>goout</th>\n",
       "      <th>health</th>\n",
       "      <th>failures_PORTUGESE</th>\n",
       "      <th>paid_PORTUGESE</th>\n",
       "      <th>absences_PORTUGESE</th>\n",
       "      <th>finalGrade_PORTUGESE</th>\n",
       "      <th>failures_MATH</th>\n",
       "      <th>paid_MATH</th>\n",
       "      <th>absences_MATH</th>\n",
       "      <th>finalGrade_MATH</th>\n",
       "    </tr>\n",
       "  </thead>\n",
       "  <tbody>\n",
       "    <tr>\n",
       "      <th>0</th>\n",
       "      <td>0</td>\n",
       "      <td>GP</td>\n",
       "      <td>F</td>\n",
       "      <td>18</td>\n",
       "      <td>U</td>\n",
       "      <td>GT3</td>\n",
       "      <td>A</td>\n",
       "      <td>4</td>\n",
       "      <td>4</td>\n",
       "      <td>at_home</td>\n",
       "      <td>...</td>\n",
       "      <td>4</td>\n",
       "      <td>3</td>\n",
       "      <td>0</td>\n",
       "      <td>no</td>\n",
       "      <td>4</td>\n",
       "      <td>11</td>\n",
       "      <td>0</td>\n",
       "      <td>no</td>\n",
       "      <td>6</td>\n",
       "      <td>6</td>\n",
       "    </tr>\n",
       "    <tr>\n",
       "      <th>1</th>\n",
       "      <td>1</td>\n",
       "      <td>GP</td>\n",
       "      <td>F</td>\n",
       "      <td>17</td>\n",
       "      <td>U</td>\n",
       "      <td>GT3</td>\n",
       "      <td>T</td>\n",
       "      <td>1</td>\n",
       "      <td>1</td>\n",
       "      <td>at_home</td>\n",
       "      <td>...</td>\n",
       "      <td>3</td>\n",
       "      <td>3</td>\n",
       "      <td>0</td>\n",
       "      <td>no</td>\n",
       "      <td>2</td>\n",
       "      <td>11</td>\n",
       "      <td>0</td>\n",
       "      <td>no</td>\n",
       "      <td>4</td>\n",
       "      <td>6</td>\n",
       "    </tr>\n",
       "    <tr>\n",
       "      <th>2</th>\n",
       "      <td>2</td>\n",
       "      <td>GP</td>\n",
       "      <td>F</td>\n",
       "      <td>15</td>\n",
       "      <td>U</td>\n",
       "      <td>LE3</td>\n",
       "      <td>T</td>\n",
       "      <td>1</td>\n",
       "      <td>1</td>\n",
       "      <td>at_home</td>\n",
       "      <td>...</td>\n",
       "      <td>2</td>\n",
       "      <td>3</td>\n",
       "      <td>0</td>\n",
       "      <td>no</td>\n",
       "      <td>6</td>\n",
       "      <td>12</td>\n",
       "      <td>3</td>\n",
       "      <td>yes</td>\n",
       "      <td>10</td>\n",
       "      <td>10</td>\n",
       "    </tr>\n",
       "    <tr>\n",
       "      <th>3</th>\n",
       "      <td>3</td>\n",
       "      <td>GP</td>\n",
       "      <td>F</td>\n",
       "      <td>15</td>\n",
       "      <td>U</td>\n",
       "      <td>GT3</td>\n",
       "      <td>T</td>\n",
       "      <td>4</td>\n",
       "      <td>2</td>\n",
       "      <td>health</td>\n",
       "      <td>...</td>\n",
       "      <td>2</td>\n",
       "      <td>5</td>\n",
       "      <td>0</td>\n",
       "      <td>no</td>\n",
       "      <td>0</td>\n",
       "      <td>14</td>\n",
       "      <td>0</td>\n",
       "      <td>yes</td>\n",
       "      <td>2</td>\n",
       "      <td>15</td>\n",
       "    </tr>\n",
       "    <tr>\n",
       "      <th>4</th>\n",
       "      <td>4</td>\n",
       "      <td>GP</td>\n",
       "      <td>F</td>\n",
       "      <td>16</td>\n",
       "      <td>U</td>\n",
       "      <td>GT3</td>\n",
       "      <td>T</td>\n",
       "      <td>3</td>\n",
       "      <td>3</td>\n",
       "      <td>other</td>\n",
       "      <td>...</td>\n",
       "      <td>2</td>\n",
       "      <td>5</td>\n",
       "      <td>0</td>\n",
       "      <td>no</td>\n",
       "      <td>0</td>\n",
       "      <td>13</td>\n",
       "      <td>0</td>\n",
       "      <td>yes</td>\n",
       "      <td>4</td>\n",
       "      <td>10</td>\n",
       "    </tr>\n",
       "  </tbody>\n",
       "</table>\n",
       "<p>5 rows × 32 columns</p>\n",
       "</div>"
      ],
      "text/plain": [
       "   Unnamed: 0 school sex  age address famsize Pstatus  Medu  Fedu     Mjob  \\\n",
       "0           0     GP   F   18       U     GT3       A     4     4  at_home   \n",
       "1           1     GP   F   17       U     GT3       T     1     1  at_home   \n",
       "2           2     GP   F   15       U     LE3       T     1     1  at_home   \n",
       "3           3     GP   F   15       U     GT3       T     4     2   health   \n",
       "4           4     GP   F   16       U     GT3       T     3     3    other   \n",
       "\n",
       "   ... goout health  failures_PORTUGESE paid_PORTUGESE absences_PORTUGESE  \\\n",
       "0  ...     4      3                   0             no                  4   \n",
       "1  ...     3      3                   0             no                  2   \n",
       "2  ...     2      3                   0             no                  6   \n",
       "3  ...     2      5                   0             no                  0   \n",
       "4  ...     2      5                   0             no                  0   \n",
       "\n",
       "  finalGrade_PORTUGESE failures_MATH paid_MATH absences_MATH finalGrade_MATH  \n",
       "0                   11             0        no             6               6  \n",
       "1                   11             0        no             4               6  \n",
       "2                   12             3       yes            10              10  \n",
       "3                   14             0       yes             2              15  \n",
       "4                   13             0       yes             4              10  \n",
       "\n",
       "[5 rows x 32 columns]"
      ]
     },
     "execution_count": 3,
     "metadata": {},
     "output_type": "execute_result"
    }
   ],
   "source": [
    "df = pd.read_excel(\"students_internet_performance.xls\")\n",
    "df.head() #проеверка на адекватность"
   ]
  },
  {
   "cell_type": "code",
   "execution_count": 4,
   "metadata": {},
   "outputs": [
    {
     "name": "stdout",
     "output_type": "stream",
     "text": [
      "Categorical variables are: Index(['school', 'sex', 'address', 'famsize', 'Pstatus', 'Mjob', 'Fjob',\n",
      "       'reason', 'schoolsup', 'famsup', 'activities', 'nursery', 'higher',\n",
      "       'internet', 'romantic', 'paid_PORTUGESE', 'paid_MATH'],\n",
      "      dtype='object')\n",
      "Quantitative variables are: Index(['Unnamed: 0', 'age', 'Medu', 'Fedu', 'studytime', 'famrel', 'freetime',\n",
      "       'goout', 'health', 'failures_PORTUGESE', 'absences_PORTUGESE',\n",
      "       'finalGrade_PORTUGESE', 'failures_MATH', 'absences_MATH',\n",
      "       'finalGrade_MATH'],\n",
      "      dtype='object')\n"
     ]
    }
   ],
   "source": [
    "categorical_vars = df.select_dtypes(include=['object', 'category']).columns\n",
    "quantitative_vars = df.select_dtypes(include=['int64', 'float64']).columns\n",
    "\n",
    "print(f\"Categorical variables are: {categorical_vars}\")\n",
    "print(f\"Quantitative variables are: {quantitative_vars}\")"
   ]
  },
  {
   "cell_type": "code",
   "execution_count": 5,
   "metadata": {},
   "outputs": [
    {
     "name": "stdout",
     "output_type": "stream",
     "text": [
      "       Unnamed: 0         age        Medu        Fedu   studytime      famrel  \\\n",
      "count   370.00000  370.000000  370.000000  370.000000  370.000000  370.000000   \n",
      "mean    184.50000   16.575676    2.800000    2.556757    2.043243    3.935135   \n",
      "std     106.95404    1.180672    1.083505    1.086138    0.847934    0.911301   \n",
      "min       0.00000   15.000000    0.000000    0.000000    1.000000    1.000000   \n",
      "25%      92.25000   16.000000    2.000000    2.000000    1.000000    4.000000   \n",
      "50%     184.50000   17.000000    3.000000    3.000000    2.000000    4.000000   \n",
      "75%     276.75000   17.000000    4.000000    3.750000    2.000000    5.000000   \n",
      "max     369.00000   22.000000    4.000000    4.000000    4.000000    5.000000   \n",
      "\n",
      "         freetime       goout      health  failures_PORTUGESE  \\\n",
      "count  370.000000  370.000000  370.000000          370.000000   \n",
      "mean     3.224324    3.116216    3.562162            0.132432   \n",
      "std      0.985506    1.128592    1.407558            0.489762   \n",
      "min      1.000000    1.000000    1.000000            0.000000   \n",
      "25%      3.000000    2.000000    3.000000            0.000000   \n",
      "50%      3.000000    3.000000    4.000000            0.000000   \n",
      "75%      4.000000    4.000000    5.000000            0.000000   \n",
      "max      5.000000    5.000000    5.000000            3.000000   \n",
      "\n",
      "       absences_PORTUGESE  finalGrade_PORTUGESE  failures_MATH  absences_MATH  \\\n",
      "count          370.000000            370.000000     370.000000     370.000000   \n",
      "mean             3.632432             12.554054       0.278378       5.381081   \n",
      "std              4.827656              2.943653       0.710599       7.665653   \n",
      "min              0.000000              0.000000       0.000000       0.000000   \n",
      "25%              0.000000             11.000000       0.000000       0.000000   \n",
      "50%              2.000000             13.000000       0.000000       4.000000   \n",
      "75%              6.000000             14.000000       0.000000       8.000000   \n",
      "max             32.000000             19.000000       3.000000      75.000000   \n",
      "\n",
      "       finalGrade_MATH  \n",
      "count       370.000000  \n",
      "mean         10.464865  \n",
      "std           4.608830  \n",
      "min           0.000000  \n",
      "25%           8.000000  \n",
      "50%          11.000000  \n",
      "75%          14.000000  \n",
      "max          20.000000  \n",
      "       school  sex address famsize Pstatus   Mjob   Fjob  reason schoolsup  \\\n",
      "count     370  370     370     370     370    370    370     370       370   \n",
      "unique      2    2       2       2       2      5      5       4         2   \n",
      "top        GP    F       U     GT3       T  other  other  course        no   \n",
      "freq      331  195     289     266     332    134    205     135       321   \n",
      "\n",
      "       famsup activities nursery higher internet romantic paid_PORTUGESE  \\\n",
      "count     370        370     370    370      370      370            370   \n",
      "unique      2          2       2      2        2        2              2   \n",
      "top       yes        yes     yes    yes      yes       no             no   \n",
      "freq      231        191     298    354      313      251            345   \n",
      "\n",
      "       paid_MATH  \n",
      "count        370  \n",
      "unique         2  \n",
      "top           no  \n",
      "freq         196  \n",
      "Unnamed: 0              0\n",
      "school                  0\n",
      "sex                     0\n",
      "age                     0\n",
      "address                 0\n",
      "famsize                 0\n",
      "Pstatus                 0\n",
      "Medu                    0\n",
      "Fedu                    0\n",
      "Mjob                    0\n",
      "Fjob                    0\n",
      "reason                  0\n",
      "studytime               0\n",
      "schoolsup               0\n",
      "famsup                  0\n",
      "activities              0\n",
      "nursery                 0\n",
      "higher                  0\n",
      "internet                0\n",
      "romantic                0\n",
      "famrel                  0\n",
      "freetime                0\n",
      "goout                   0\n",
      "health                  0\n",
      "failures_PORTUGESE      0\n",
      "paid_PORTUGESE          0\n",
      "absences_PORTUGESE      0\n",
      "finalGrade_PORTUGESE    0\n",
      "failures_MATH           0\n",
      "paid_MATH               0\n",
      "absences_MATH           0\n",
      "finalGrade_MATH         0\n",
      "dtype: int64\n"
     ]
    }
   ],
   "source": [
    "# Описательные статистики для количественных переменных\n",
    "quantitative_desc = df[quantitative_vars].describe()\n",
    "# Описательные статистики для категориальных переменных\n",
    "categorical_desc = df[categorical_vars].describe()\n",
    "\n",
    "# Проверка пропущенных значений\n",
    "missing_values = df.isnull().sum()\n",
    "\n",
    "print(quantitative_desc)\n",
    "print(categorical_desc)\n",
    "print(missing_values)"
   ]
  },
  {
   "cell_type": "code",
   "execution_count": 6,
   "metadata": {},
   "outputs": [
    {
     "name": "stdout",
     "output_type": "stream",
     "text": [
      "internet\n",
      "yes    0.845946\n",
      "no     0.154054\n",
      "Name: proportion, dtype: float64\n"
     ]
    }
   ],
   "source": [
    "# Расчет доли учеников с доступом к интернету\n",
    "internet_access_ratio = df['internet'].value_counts(normalize=True)\n",
    "print(internet_access_ratio)"
   ]
  },
  {
   "cell_type": "code",
   "execution_count": 7,
   "metadata": {},
   "outputs": [
    {
     "name": "stdout",
     "output_type": "stream",
     "text": [
      "                      finalGrade_PORTUGESE  finalGrade_MATH\n",
      "finalGrade_PORTUGESE              1.000000         0.493134\n",
      "finalGrade_MATH                   0.493134         1.000000\n"
     ]
    }
   ],
   "source": [
    "# Корреляция Пирсона между оценками\n",
    "correlation = df[['finalGrade_PORTUGESE', 'finalGrade_MATH']].corr(method='pearson')\n",
    "print(correlation)"
   ]
  },
  {
   "cell_type": "code",
   "execution_count": 8,
   "metadata": {},
   "outputs": [
    {
     "name": "stdout",
     "output_type": "stream",
     "text": [
      "             Medu        Fedu\n",
      "count  370.000000  370.000000\n",
      "mean     2.800000    2.556757\n",
      "std      1.083505    1.086138\n",
      "min      0.000000    0.000000\n",
      "25%      2.000000    2.000000\n",
      "50%      3.000000    3.000000\n",
      "75%      4.000000    3.750000\n",
      "max      4.000000    4.000000\n"
     ]
    }
   ],
   "source": [
    "# Выбор переменных, отражающих социально-демографический статус\n",
    "socio_demographic_vars = ['Medu', 'Fedu', 'Mjob', 'Fjob']\n",
    "# Описательная статистика для социально-демографических переменных\n",
    "socio_demographic_desc = df[socio_demographic_vars].describe()\n",
    "print(socio_demographic_desc)\n"
   ]
  },
  {
   "cell_type": "code",
   "execution_count": 9,
   "metadata": {},
   "outputs": [
    {
     "name": "stdout",
     "output_type": "stream",
     "text": [
      "          finalGrade_PORTUGESE  finalGrade_MATH\n",
      "internet                                       \n",
      "no                   11.982456         9.578947\n",
      "yes                  12.658147        10.626198\n"
     ]
    }
   ],
   "source": [
    "internet_performance_correlation = df.groupby('internet')[['finalGrade_PORTUGESE', 'finalGrade_MATH']].mean()\n",
    "print(internet_performance_correlation)\n"
   ]
  },
  {
   "cell_type": "code",
   "execution_count": 16,
   "metadata": {},
   "outputs": [
    {
     "name": "stdout",
     "output_type": "stream",
     "text": [
      "Mean Squared Error: 0.11904099677473057\n"
     ]
    }
   ],
   "source": [
    "from sklearn.preprocessing import LabelEncoder\n",
    "\n",
    "# Encode the categorical target variable\n",
    "le = LabelEncoder()\n",
    "df['internet'] = le.fit_transform(df['internet'])\n",
    "\n",
    "# Split the data into training and testing sets\n",
    "X_train, X_test, y_train, y_test = train_test_split(df[['finalGrade_PORTUGESE', 'finalGrade_MATH']], df['internet'], test_size=0.2, random_state=42)\n",
    "\n",
    "# Create the linear regression model\n",
    "model = LinearRegression()\n",
    "\n",
    "# Train the model\n",
    "model.fit(X_train, y_train)\n",
    "\n",
    "# Make predictions for the test set\n",
    "y_pred = model.predict(X_test)\n",
    "\n",
    "# Calculate the mean squared error\n",
    "mse = mean_squared_error(y_test, y_pred)\n",
    "print(f\"Mean Squared Error: {mse}\")"
   ]
  },
  {
   "cell_type": "code",
   "execution_count": 14,
   "metadata": {},
   "outputs": [
    {
     "name": "stdout",
     "output_type": "stream",
     "text": [
      "T-статистика: -7.348463679214774\n",
      "P-значение: 5.326862450134039e-13\n"
     ]
    }
   ],
   "source": [
    "from scipy import stats\n",
    "\n",
    "# Проверка связи между оценками по математике и португальскому языку\n",
    "t_statistic, p_value = stats.ttest_ind(df['finalGrade_MATH'], df['finalGrade_PORTUGESE'])\n",
    "print(f\"T-статистика: {t_statistic}\")\n",
    "print(f\"P-значение: {p_value}\")"
   ]
  },
  {
   "cell_type": "code",
   "execution_count": 15,
   "metadata": {},
   "outputs": [],
   "source": [
    "from sklearn.tree import DecisionTreeClassifier\n",
    "\n",
    "# Создание модели решающего дерева\n",
    "model = DecisionTreeClassifier()\n",
    "\n",
    "# Обучение модели\n",
    "model.fit(df[['finalGrade_PORTUGESE', 'finalGrade_MATH']], df['internet'])\n",
    "\n",
    "# Предсказание для новых данных\n",
    "y_pred = model.predict(X_test)"
   ]
  }
 ],
 "metadata": {
  "kernelspec": {
   "display_name": "Python 3",
   "language": "python",
   "name": "python3"
  },
  "language_info": {
   "codemirror_mode": {
    "name": "ipython",
    "version": 3
   },
   "file_extension": ".py",
   "mimetype": "text/x-python",
   "name": "python",
   "nbconvert_exporter": "python",
   "pygments_lexer": "ipython3",
   "version": "3.11.8"
  }
 },
 "nbformat": 4,
 "nbformat_minor": 2
}
